{
  "nbformat": 4,
  "nbformat_minor": 0,
  "metadata": {
    "colab": {
      "provenance": [],
      "toc_visible": true,
      "authorship_tag": "ABX9TyNNSRxWMnTVksPxOEBFHi/R",
      "include_colab_link": true
    },
    "kernelspec": {
      "name": "python3",
      "display_name": "Python 3"
    },
    "language_info": {
      "name": "python"
    }
  },
  "cells": [
    {
      "cell_type": "markdown",
      "metadata": {
        "id": "view-in-github",
        "colab_type": "text"
      },
      "source": [
        "<a href=\"https://colab.research.google.com/github/IdhamAbidinKaisilay/BelajarDataAnalyst/blob/main/Pyplot_dan_Dasar_Plot.ipynb\" target=\"_parent\"><img src=\"https://colab.research.google.com/assets/colab-badge.svg\" alt=\"Open In Colab\"/></a>"
      ]
    },
    {
      "cell_type": "markdown",
      "source": [
        "# Pyplot\n",
        "Pyplot adalah modul dalam library Matplotlib yang menyediakan fungsi-fungsi untuk membuat berbagai jenis plot dan grafik dengan cara yang mirip dengan MATLAB.\n",
        "\n",
        "Setiap fungsi di pyplot membuat atau mengubah gambar (figure). Contohnya, fungsi plt.plot() digunakan untuk membuat garis plot, plt.scatter() untuk scatter plot, dan plt.bar() untuk membuat bar chart, dll."
      ],
      "metadata": {
        "id": "CsEpfDejN4xf"
      }
    },
    {
      "cell_type": "markdown",
      "source": [
        "# Plot Sederhana"
      ],
      "metadata": {
        "id": "C_yXUfFmOC_s"
      }
    },
    {
      "cell_type": "markdown",
      "source": [
        "## Fungsi plt.plot()\n",
        "\n",
        "plt.plot() adalah salah satu fungsi paling dasar dalam pustaka Matplotlib untuk membuat plot garis. Fungsi ini digunakan untuk menggambar garis antara titik-titik data yang disediakan."
      ],
      "metadata": {
        "id": "kOCX6iHXODz7"
      }
    },
    {
      "cell_type": "code",
      "execution_count": null,
      "metadata": {
        "id": "SFyx83S7NzOJ"
      },
      "outputs": [],
      "source": []
    },
    {
      "cell_type": "markdown",
      "source": [
        "# Modifikasi Plot Bagian 1"
      ],
      "metadata": {
        "id": "SIsvZet0OIpt"
      }
    },
    {
      "cell_type": "markdown",
      "source": [
        "## Menambahkan Judul dan Label"
      ],
      "metadata": {
        "id": "6JyguzLxOLrB"
      }
    },
    {
      "cell_type": "markdown",
      "source": [
        "## Menambahkan legenda"
      ],
      "metadata": {
        "id": "We96qVd7OOva"
      }
    },
    {
      "cell_type": "markdown",
      "source": [
        "## Mengubah Warna"
      ],
      "metadata": {
        "id": "k6R-I6y8OPbR"
      }
    },
    {
      "cell_type": "markdown",
      "source": [
        "Parameter **color** digunakan untuk menentukan warna garis pada plot. Anda dapat menggunakan nama warna standar, kode warna heksadesimal, atau notasi singkat untuk warna:\n",
        "\n",
        "https://matplotlib.org/stable/users/explain/colors/colors.html#colors-def"
      ],
      "metadata": {
        "id": "c3UK-OaDOUfL"
      }
    },
    {
      "cell_type": "markdown",
      "source": [
        "## Mengubah Marker"
      ],
      "metadata": {
        "id": "MjJ3oojbOWgz"
      }
    },
    {
      "cell_type": "markdown",
      "source": [
        "Parameter **marker** digunakan untuk menentukan jenis penanda titik data pada plot, untuk macam-macam marker bisa cek link berikut:\n",
        "https://matplotlib.org/stable/api/markers_api.html#module-matplotlib.markers"
      ],
      "metadata": {
        "id": "aNMN0FgFOYdX"
      }
    },
    {
      "cell_type": "markdown",
      "source": [
        "## Mengubah linestyle"
      ],
      "metadata": {
        "id": "lRg-GZ9TOalu"
      }
    },
    {
      "cell_type": "markdown",
      "source": [
        "Parameter **linestyle** digunakan untuk menentukan gaya garis pada plot, untuk macam-macam linestyle bisa cek link berikut:\n",
        "\n",
        "https://matplotlib.org/stable/api/_as_gen/matplotlib.lines.Line2D.html#matplotlib.lines.Line2D.set_linestyle"
      ],
      "metadata": {
        "id": "wjK8yap_ObIk"
      }
    },
    {
      "cell_type": "markdown",
      "source": [
        "## Transparansi"
      ],
      "metadata": {
        "id": "qPZOFbjOOc9b"
      }
    },
    {
      "cell_type": "markdown",
      "source": [
        "## Menambahkan Grid"
      ],
      "metadata": {
        "id": "JaNeYGETOgVZ"
      }
    },
    {
      "cell_type": "markdown",
      "source": [
        "# Mengatur Nilai Default Parameter dengan rcParams\n",
        "\n",
        "rcParams dalam Matplotlib adalah sebuah kamus (dictionary) yang berisi konfigurasi global untuk semua plot. Dengan rcParams, Anda dapat mengatur gaya default dari berbagai elemen plot seperti ukuran font, warna, gaya garis, dan banyak lagi.\n",
        "\n",
        "Menggunakan rcParams, Anda bisa menetapkan nilai default untuk berbagai parameter sehingga tidak perlu mengatur ulang parameter tersebut setiap kali membuat plot"
      ],
      "metadata": {
        "id": "mZ_mgu4wOjcr"
      }
    },
    {
      "cell_type": "markdown",
      "source": [
        "Untuk parameter lainnya bisa cek link berikut:\n",
        "https://matplotlib.org/stable/api/matplotlib_configuration_api.html#matplotlib.rcParams"
      ],
      "metadata": {
        "id": "QfOKN8-cOlwJ"
      }
    },
    {
      "cell_type": "markdown",
      "source": [
        "# Menggunakan style/tema template\n",
        "Style template pada pyplot di Matplotlib adalah fitur yang memungkinkan pengguna untuk mengubah tampilan plot mereka dengan cepat dan mudah. Dengan menggunakan style template, Anda bisa mengaplikasikan tema yang sudah ditentukan sebelumnya ke grafik Anda untuk mengubah warna, jenis garis, ukuran font, dan elemen visual lainnya."
      ],
      "metadata": {
        "id": "01LdKEHAOoSU"
      }
    },
    {
      "cell_type": "markdown",
      "source": [
        "**referensi**: https://matplotlib.org/stable/gallery/style_sheets/style_sheets_reference.html"
      ],
      "metadata": {
        "id": "eVgjNmX5Oqgy"
      }
    }
  ]
}