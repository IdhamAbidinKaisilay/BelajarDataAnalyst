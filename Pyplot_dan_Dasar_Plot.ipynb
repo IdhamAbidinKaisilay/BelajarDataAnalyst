{
  "nbformat": 4,
  "nbformat_minor": 0,
  "metadata": {
    "colab": {
      "provenance": [],
      "authorship_tag": "ABX9TyPSRKdvrHmODquDPQ73r3xh",
      "include_colab_link": true
    },
    "kernelspec": {
      "name": "python3",
      "display_name": "Python 3"
    },
    "language_info": {
      "name": "python"
    }
  },
  "cells": [
    {
      "cell_type": "markdown",
      "metadata": {
        "id": "view-in-github",
        "colab_type": "text"
      },
      "source": [
        "<a href=\"https://colab.research.google.com/github/IdhamAbidinKaisilay/BelajarDataAnalyst/blob/main/Pyplot_dan_Dasar_Plot.ipynb\" target=\"_parent\"><img src=\"https://colab.research.google.com/assets/colab-badge.svg\" alt=\"Open In Colab\"/></a>"
      ]
    },
    {
      "cell_type": "markdown",
      "source": [
        "# Pyplot\n",
        "Pyplot adalah modul dalam library Matplotlib yang menyediakan fungsi-fungsi untuk membuat berbagai jenis plot dan grafik dengan cara yang mirip dengan MATLAB.\n",
        "\n",
        "Setiap fungsi di pyplot membuat atau mengubah gambar (figure). Contohnya, fungsi plt.plot() digunakan untuk membuat garis plot, plt.scatter() untuk scatter plot, dan plt.bar() untuk membuat bar chart, dll."
      ],
      "metadata": {
        "id": "CsEpfDejN4xf"
      }
    },
    {
      "cell_type": "code",
      "execution_count": null,
      "metadata": {
        "id": "SFyx83S7NzOJ"
      },
      "outputs": [],
      "source": []
    }
  ]
}